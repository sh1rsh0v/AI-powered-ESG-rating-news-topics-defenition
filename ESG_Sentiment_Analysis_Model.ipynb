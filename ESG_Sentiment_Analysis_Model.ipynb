{
  "cells": [
    {
      "cell_type": "code",
      "execution_count": null,
      "metadata": {
        "_cell_guid": "b1076dfc-b9ad-4769-8c92-a6c4dae69d19",
        "_uuid": "8f2839f25d086af736a60e9eeb907d3b93b6e0e5",
        "id": "gZFujblcO0UT",
        "outputId": "956b2684-f1aa-479c-b138-f0f1833fe3cf"
      },
      "outputs": [
        {
          "name": "stdout",
          "output_type": "stream",
          "text": [
            "['train.json', 'test.json', 'sample.csv']\n"
          ]
        }
      ],
      "source": [
        "import numpy as np\n",
        "import pandas as pd\n",
        "\n",
        "import os\n",
        "print(os.listdir(\"../input\"))"
      ]
    },
    {
      "cell_type": "code",
      "execution_count": null,
      "metadata": {
        "_cell_guid": "79c7e3d0-c299-4dcb-8224-4455121ee9b0",
        "_uuid": "d629ff2d2480ee46fbb7e2d37f6b5fab8052498a",
        "id": "0JlbA4EDO0UV",
        "outputId": "7c3662d0-2de1-400b-f963-efb2d7d74ff1"
      },
      "outputs": [
        {
          "name": "stdout",
          "output_type": "stream",
          "text": [
            "Train sentences: 8263\n",
            "Train labels: 8263\n",
            "Test sentences: 2056\n"
          ]
        }
      ],
      "source": [
        "import json\n",
        "\n",
        "test_file = '../input/test.json'\n",
        "train_file = '../input/train.json'\n",
        "\n",
        "x_train, y_train, x_test, test_inds = [], [], [], []\n",
        "\n",
        "with open(test_file) as json_file:\n",
        "    data = json.load(json_file)\n",
        "\n",
        "    for row in data:\n",
        "        x_test.append(row['text'])\n",
        "        test_inds.append(row['id'])\n",
        "\n",
        "with open(train_file) as json_file:\n",
        "    data = json.load(json_file)\n",
        "\n",
        "    for row in data:\n",
        "        sentiment = -1\n",
        "\n",
        "        if row['sentiment'] == 'negative':\n",
        "            sentiment = 0\n",
        "        elif row['sentiment'] == 'neutral':\n",
        "            sentiment = 1\n",
        "        else:\n",
        "            sentiment = 2\n",
        "\n",
        "        if sentiment == -1:\n",
        "            continue\n",
        "\n",
        "        x_train.append(row['text'])\n",
        "        y_train.append(sentiment)\n",
        "\n",
        "print('Train sentences: {}'.format(len(x_train)))\n",
        "print('Train labels: {}'.format(len(y_train)))\n",
        "print('Test sentences: {}'.format(len(x_test)))"
      ]
    },
    {
      "cell_type": "code",
      "execution_count": null,
      "metadata": {
        "id": "Y-avKOxWO0UW",
        "outputId": "c8ce1fa8-50c5-48ec-9fae-db5c1f5e0fd6"
      },
      "outputs": [
        {
          "name": "stderr",
          "output_type": "stream",
          "text": [
            "Using TensorFlow backend.\n"
          ]
        },
        {
          "name": "stdout",
          "output_type": "stream",
          "text": [
            "np_x_train shape: (8263, 5000)\n",
            "np_x_test shape: (2056, 5000)\n",
            "np_y_train shape: (8263, 3)\n"
          ]
        }
      ],
      "source": [
        "from keras.preprocessing import text, sequence\n",
        "from keras.preprocessing.text import Tokenizer\n",
        "from keras.preprocessing.sequence import pad_sequences\n",
        "from keras.utils import to_categorical\n",
        "\n",
        "max_length = 5000\n",
        "max_features = 20000\n",
        "embedding_dim = 300\n",
        "\n",
        "x_all = []\n",
        "x_all.extend(x_test)\n",
        "x_all.extend(x_train)\n",
        "\n",
        "tk = Tokenizer(num_words=max_features, lower=True, filters='\\n\\t')\n",
        "tk.fit_on_texts(x_all)\n",
        "x_train_seq = tk.texts_to_sequences(x_train)\n",
        "x_test_seq = tk.texts_to_sequences(x_test)\n",
        "\n",
        "np_x_train = pad_sequences(x_train_seq, maxlen=max_length,  padding='post')\n",
        "np_x_test = pad_sequences(x_test_seq, maxlen=max_length,  padding='post')\n",
        "np_y_train = to_categorical(y_train)\n",
        "\n",
        "class_num = np_y_train.shape[1]\n",
        "\n",
        "print ('np_x_train shape: {}'.format(np_x_train.shape))\n",
        "print ('np_x_test shape: {}'.format(np_x_test.shape))\n",
        "print ('np_y_train shape: {}'.format(np_y_train.shape))"
      ]
    },
    {
      "cell_type": "code",
      "execution_count": null,
      "metadata": {
        "id": "Gw0Bbk-BO0UW",
        "outputId": "9202cdbe-165e-47bf-9492-3d36df76dc81"
      },
      "outputs": [
        {
          "name": "stdout",
          "output_type": "stream",
          "text": [
            "WARNING:tensorflow:From /opt/conda/lib/python3.6/site-packages/tensorflow/python/framework/op_def_library.py:263: colocate_with (from tensorflow.python.framework.ops) is deprecated and will be removed in a future version.\n",
            "Instructions for updating:\n",
            "Colocations handled automatically by placer.\n",
            "WARNING:tensorflow:From /opt/conda/lib/python3.6/site-packages/keras/backend/tensorflow_backend.py:3445: calling dropout (from tensorflow.python.ops.nn_ops) with keep_prob is deprecated and will be removed in a future version.\n",
            "Instructions for updating:\n",
            "Please use `rate` instead of `keep_prob`. Rate should be set to `rate = 1 - keep_prob`.\n",
            "_________________________________________________________________\n",
            "Layer (type)                 Output Shape              Param #   \n",
            "=================================================================\n",
            "input_1 (InputLayer)         (None, 5000)              0         \n",
            "_________________________________________________________________\n",
            "embedding_1 (Embedding)      (None, 5000, 300)         6000000   \n",
            "_________________________________________________________________\n",
            "conv1d_1 (Conv1D)            (None, 4992, 32)          86432     \n",
            "_________________________________________________________________\n",
            "maxpool1d_1 (MaxPooling1D)   (None, 312, 32)           0         \n",
            "_________________________________________________________________\n",
            "dropout_1 (Dropout)          (None, 312, 32)           0         \n",
            "_________________________________________________________________\n",
            "conv1d_2 (Conv1D)            (None, 306, 32)           7200      \n",
            "_________________________________________________________________\n",
            "maxpool1d_2 (MaxPooling1D)   (None, 38, 32)            0         \n",
            "_________________________________________________________________\n",
            "dropout_2 (Dropout)          (None, 38, 32)            0         \n",
            "_________________________________________________________________\n",
            "bidirectional_1 (Bidirection (None, 64)                16640     \n",
            "_________________________________________________________________\n",
            "preds (Dense)                (None, 3)                 195       \n",
            "=================================================================\n",
            "Total params: 6,110,467\n",
            "Trainable params: 6,110,467\n",
            "Non-trainable params: 0\n",
            "_________________________________________________________________\n",
            "None\n",
            "WARNING:tensorflow:From /opt/conda/lib/python3.6/site-packages/tensorflow/python/ops/math_ops.py:3066: to_int32 (from tensorflow.python.ops.math_ops) is deprecated and will be removed in a future version.\n",
            "Instructions for updating:\n",
            "Use tf.cast instead.\n",
            "Train on 5784 samples, validate on 2479 samples\n",
            "Epoch 1/10\n",
            "5784/5784 [==============================] - 34s 6ms/step - loss: 1.0078 - acc: 0.4900 - val_loss: 0.9230 - val_acc: 0.4792\n",
            "Epoch 2/10\n",
            "5784/5784 [==============================] - 31s 5ms/step - loss: 0.7423 - acc: 0.6532 - val_loss: 0.6860 - val_acc: 0.7015\n",
            "Epoch 3/10\n",
            "5784/5784 [==============================] - 31s 5ms/step - loss: 0.4310 - acc: 0.8368 - val_loss: 0.8310 - val_acc: 0.6841\n",
            "Restoring model weights from the end of the best epoch\n",
            "Epoch 00003: early stopping\n",
            "Train on 5784 samples, validate on 2479 samples\n",
            "Epoch 1/10\n",
            "5784/5784 [==============================] - 33s 6ms/step - loss: 1.0180 - acc: 0.4872 - val_loss: 1.0027 - val_acc: 0.4792\n",
            "Epoch 2/10\n",
            "5784/5784 [==============================] - 31s 5ms/step - loss: 0.7679 - acc: 0.6573 - val_loss: 0.6837 - val_acc: 0.6890\n",
            "Epoch 3/10\n",
            "5784/5784 [==============================] - 30s 5ms/step - loss: 0.4177 - acc: 0.8463 - val_loss: 0.7547 - val_acc: 0.6914\n",
            "Restoring model weights from the end of the best epoch\n",
            "Epoch 00003: early stopping\n",
            "Train on 5784 samples, validate on 2479 samples\n",
            "Epoch 1/10\n",
            "5784/5784 [==============================] - 34s 6ms/step - loss: 0.9928 - acc: 0.5066 - val_loss: 0.8192 - val_acc: 0.5938\n",
            "Epoch 2/10\n",
            "5784/5784 [==============================] - 30s 5ms/step - loss: 0.7421 - acc: 0.6558 - val_loss: 0.7188 - val_acc: 0.6777\n",
            "Epoch 3/10\n",
            "5784/5784 [==============================] - 30s 5ms/step - loss: 0.4748 - acc: 0.8179 - val_loss: 0.7961 - val_acc: 0.6805\n",
            "Restoring model weights from the end of the best epoch\n",
            "Epoch 00003: early stopping\n",
            "Train on 5784 samples, validate on 2479 samples\n",
            "Epoch 1/10\n",
            "5784/5784 [==============================] - 35s 6ms/step - loss: 1.0146 - acc: 0.4905 - val_loss: 0.9535 - val_acc: 0.5131\n",
            "Epoch 2/10\n",
            "5784/5784 [==============================] - 30s 5ms/step - loss: 0.7451 - acc: 0.6751 - val_loss: 0.6760 - val_acc: 0.6983\n",
            "Epoch 3/10\n",
            "5784/5784 [==============================] - 31s 5ms/step - loss: 0.4223 - acc: 0.8361 - val_loss: 0.7684 - val_acc: 0.6874\n",
            "Restoring model weights from the end of the best epoch\n",
            "Epoch 00003: early stopping\n",
            "Train on 5784 samples, validate on 2479 samples\n",
            "Epoch 1/10\n",
            "5784/5784 [==============================] - 35s 6ms/step - loss: 1.0102 - acc: 0.4881 - val_loss: 0.9205 - val_acc: 0.4792\n",
            "Epoch 2/10\n",
            "5784/5784 [==============================] - 30s 5ms/step - loss: 0.7309 - acc: 0.6582 - val_loss: 0.6889 - val_acc: 0.7007\n",
            "Epoch 3/10\n",
            "5784/5784 [==============================] - 31s 5ms/step - loss: 0.4279 - acc: 0.8344 - val_loss: 0.7616 - val_acc: 0.6971\n",
            "Restoring model weights from the end of the best epoch\n",
            "Epoch 00003: early stopping\n",
            "Train on 5784 samples, validate on 2479 samples\n",
            "Epoch 1/10\n",
            "5784/5784 [==============================] - 34s 6ms/step - loss: 1.0097 - acc: 0.4903 - val_loss: 0.9334 - val_acc: 0.4772\n",
            "Epoch 2/10\n",
            "5784/5784 [==============================] - 31s 5ms/step - loss: 0.7139 - acc: 0.6788 - val_loss: 0.6839 - val_acc: 0.7035\n",
            "Epoch 3/10\n",
            "5784/5784 [==============================] - 30s 5ms/step - loss: 0.4038 - acc: 0.8499 - val_loss: 0.8036 - val_acc: 0.6858\n",
            "Restoring model weights from the end of the best epoch\n",
            "Epoch 00003: early stopping\n",
            "Train on 5784 samples, validate on 2479 samples\n",
            "Epoch 1/10\n",
            "5784/5784 [==============================] - 36s 6ms/step - loss: 0.9848 - acc: 0.5031 - val_loss: 0.8199 - val_acc: 0.6035\n",
            "Epoch 2/10\n",
            "5784/5784 [==============================] - 30s 5ms/step - loss: 0.7171 - acc: 0.6802 - val_loss: 0.7342 - val_acc: 0.6636\n",
            "Epoch 3/10\n",
            "5784/5784 [==============================] - 30s 5ms/step - loss: 0.4683 - acc: 0.8186 - val_loss: 0.8405 - val_acc: 0.6704\n",
            "Restoring model weights from the end of the best epoch\n",
            "Epoch 00003: early stopping\n",
            "Train on 5784 samples, validate on 2479 samples\n",
            "Epoch 1/10\n",
            "5784/5784 [==============================] - 38s 7ms/step - loss: 0.9886 - acc: 0.5173 - val_loss: 0.8472 - val_acc: 0.6127\n",
            "Epoch 2/10\n",
            "5784/5784 [==============================] - 30s 5ms/step - loss: 0.7325 - acc: 0.6656 - val_loss: 0.7107 - val_acc: 0.6761\n",
            "Epoch 3/10\n",
            "5784/5784 [==============================] - 31s 5ms/step - loss: 0.4656 - acc: 0.8228 - val_loss: 0.7777 - val_acc: 0.6902\n",
            "Restoring model weights from the end of the best epoch\n",
            "Epoch 00003: early stopping\n",
            "Train on 5784 samples, validate on 2479 samples\n",
            "Epoch 1/10\n",
            "5784/5784 [==============================] - 36s 6ms/step - loss: 0.9800 - acc: 0.4929 - val_loss: 0.8584 - val_acc: 0.5563\n",
            "Epoch 2/10\n",
            "5784/5784 [==============================] - 30s 5ms/step - loss: 0.7225 - acc: 0.6655 - val_loss: 0.7247 - val_acc: 0.6809\n",
            "Epoch 3/10\n",
            "5784/5784 [==============================] - 31s 5ms/step - loss: 0.4648 - acc: 0.8190 - val_loss: 0.8091 - val_acc: 0.6809\n",
            "Restoring model weights from the end of the best epoch\n",
            "Epoch 00003: early stopping\n",
            "Train on 5784 samples, validate on 2479 samples\n",
            "Epoch 1/10\n",
            "5784/5784 [==============================] - 37s 6ms/step - loss: 1.0093 - acc: 0.4924 - val_loss: 0.9501 - val_acc: 0.5672\n",
            "Epoch 2/10\n",
            "5784/5784 [==============================] - 31s 5ms/step - loss: 0.7824 - acc: 0.6596 - val_loss: 0.7160 - val_acc: 0.6890\n",
            "Epoch 3/10\n",
            "5784/5784 [==============================] - 30s 5ms/step - loss: 0.4493 - acc: 0.8332 - val_loss: 0.7568 - val_acc: 0.6926\n",
            "Restoring model weights from the end of the best epoch\n",
            "Epoch 00003: early stopping\n"
          ]
        }
      ],
      "source": [
        "from keras.models import Model\n",
        "from keras.layers import *\n",
        "from keras.callbacks import EarlyStopping\n",
        "\n",
        "def one_input_classifier(max_length, max_features, embedding_dim, class_num):\n",
        "    inputs = Input(shape=(max_length,), name='input_1')\n",
        "    embeddings = Embedding(max_features, embedding_dim, input_length=max_length, name='embedding_1')(inputs)\n",
        "\n",
        "    conv_1 = Conv1D(32, 9, activation='relu', name='conv1d_1')(embeddings)\n",
        "    maxpool_1 = MaxPooling1D(16, name='maxpool1d_1')(conv_1)\n",
        "    dropout_1 = Dropout(0.2, name='dropout_1')(maxpool_1)\n",
        "\n",
        "    conv_2 = Conv1D(32, 7, activation='relu', name='conv1d_2')(dropout_1)\n",
        "    maxpool_2 = MaxPooling1D(8, name='maxpool1d_2')(conv_2)\n",
        "    dropout_2 = Dropout(0.2, name='dropout_2')(maxpool_2)\n",
        "\n",
        "    bilstm = Bidirectional(LSTM(32, dropout=0.2, recurrent_dropout=0.2, name='lstm_1'),\n",
        "        name='bidirectional_1')(dropout_2)\n",
        "    preds = Dense(class_num, activation='softmax', name='preds')(bilstm)\n",
        "\n",
        "    model = Model(inputs=inputs, outputs=preds)\n",
        "    model.compile(optimizer='adam', loss='categorical_crossentropy', metrics=['accuracy'])\n",
        "    return model\n",
        "\n",
        "early_stopping = EarlyStopping(monitor='val_loss', min_delta=0, patience=0, verbose=1,\n",
        "                               mode='min', baseline=None, restore_best_weights=True)\n",
        "\n",
        "models = []\n",
        "classifier_num = 10\n",
        "\n",
        "for i in range(classifier_num):\n",
        "    model = one_input_classifier(max_length, max_features, embedding_dim, class_num)\n",
        "\n",
        "    if i == 0:\n",
        "        print(model.summary())\n",
        "\n",
        "    model.fit(np_x_train, np_y_train, validation_split=0.3, shuffle=True,\n",
        "              callbacks=[early_stopping], epochs=10, batch_size=32, verbose=1)\n",
        "    models.append(model)"
      ]
    },
    {
      "cell_type": "code",
      "execution_count": null,
      "metadata": {
        "id": "64kScqiNO0UX",
        "outputId": "035631c2-96f8-4be6-c462-d0d85bfc7c99"
      },
      "outputs": [
        {
          "name": "stdout",
          "output_type": "stream",
          "text": [
            "2056/2056 [==============================] - 5s 3ms/step\n",
            "2056/2056 [==============================] - 6s 3ms/step\n",
            "2056/2056 [==============================] - 5s 3ms/step\n",
            "2056/2056 [==============================] - 5s 2ms/step\n",
            "2056/2056 [==============================] - 6s 3ms/step\n",
            "2056/2056 [==============================] - 5s 3ms/step\n",
            "2056/2056 [==============================] - 5s 2ms/step\n",
            "2056/2056 [==============================] - 5s 2ms/step\n",
            "2056/2056 [==============================] - 5s 2ms/step\n",
            "2056/2056 [==============================] - 5s 2ms/step\n",
            "10\n"
          ]
        }
      ],
      "source": [
        "y_pred_list = []\n",
        "\n",
        "for i in range(classifier_num):\n",
        "    y_pred = models[i].predict(np_x_test, batch_size=32, verbose=1)\n",
        "    y_pred_list.append(y_pred)\n",
        "\n",
        "print(len(y_pred_list))"
      ]
    },
    {
      "cell_type": "code",
      "execution_count": null,
      "metadata": {
        "id": "xuvw5USRO0UX",
        "outputId": "a0ae805b-5cd1-4139-c4a2-d8364d10b5c6"
      },
      "outputs": [
        {
          "name": "stdout",
          "output_type": "stream",
          "text": [
            "   id sentiment\n",
            "0   0  positive\n",
            "1   1  positive\n",
            "2   2  negative\n",
            "3   3  positive\n",
            "4   4  negative\n"
          ]
        }
      ],
      "source": [
        "test_num = np_x_test.shape[0]\n",
        "y_pred = np.ndarray(shape=(test_num,), dtype=np.int32)\n",
        "\n",
        "for i in range(test_num):\n",
        "    votes = []\n",
        "\n",
        "    for j in range(classifier_num):\n",
        "        vote = y_pred_list[j][i].argmax(axis=0).astype(int)\n",
        "        votes.append(vote)\n",
        "\n",
        "    vote_final = max(set(votes), key=votes.count)\n",
        "    y_pred[i] = vote_final\n",
        "\n",
        "predicted_classes = []\n",
        "filename = 'submission.csv'\n",
        "\n",
        "for i, y_val in enumerate(y_pred):\n",
        "    if y_val == 0:\n",
        "        predicted_classes.append((test_inds[i], 'negative'))\n",
        "    elif y_val == 1:\n",
        "        predicted_classes.append((test_inds[i], 'neutral'))\n",
        "    else:\n",
        "        predicted_classes.append((test_inds[i], 'positive'))\n",
        "\n",
        "sub = pd.DataFrame(data=predicted_classes, columns=['id', 'sentiment'])\n",
        "sub.to_csv(filename, index=False)\n",
        "print(sub.head())"
      ]
    },
    {
      "cell_type": "code",
      "execution_count": null,
      "metadata": {
        "colab": {
          "base_uri": "https://localhost:8080/",
          "height": 447
        },
        "id": "O0UKHVEJ_sz3",
        "outputId": "fbb7c217-fe03-4b40-be8d-84e519dd923f"
      },
      "outputs": [
        {
          "data": {
            "text/plain": [
              "<Axes: >"
            ]
          },
          "execution_count": 58,
          "metadata": {},
          "output_type": "execute_result"
        },
        {
          "data": {
            "image/png": "[encoded data removed]",
            "text/plain": [
              "<Figure size 640x480 with 1 Axes>"
            ]
          },
          "metadata": {},
          "output_type": "display_data"
        }
      ],
      "source": [
        "sub[\"sentiment\"].hist()"
      ]
    }
  ],
  "metadata": {
    "kernelspec": {
      "display_name": "Python 3",
      "language": "python",
      "name": "python3"
    },
    "language_info": {
      "codemirror_mode": {
        "name": "ipython",
        "version": 3
      },
      "file_extension": ".py",
      "mimetype": "text/x-python",
      "name": "python",
      "nbconvert_exporter": "python",
      "pygments_lexer": "ipython3",
      "version": "3.6.4"
    },
    "colab": {
      "provenance": []
    }
  },
  "nbformat": 4,
  "nbformat_minor": 0
}